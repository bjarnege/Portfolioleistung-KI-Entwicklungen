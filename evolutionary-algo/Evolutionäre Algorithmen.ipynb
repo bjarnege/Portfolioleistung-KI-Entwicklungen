{
 "cells": [
  {
   "cell_type": "code",
   "execution_count": 1,
   "id": "ac604ffc",
   "metadata": {},
   "outputs": [],
   "source": [
    "from Networkgraph import NetworkPlot\n",
    "from Population import f, PopulationInstance\n",
    "from Variants import ProcessAllVariants\n",
    "from Evolution import Evolution"
   ]
  },
  {
   "cell_type": "markdown",
   "id": "dbfd1a4c",
   "metadata": {},
   "source": [
    "## Example Values  "
   ]
  },
  {
   "cell_type": "code",
   "execution_count": 2,
   "id": "f8ecdad7",
   "metadata": {},
   "outputs": [],
   "source": [
    "example_evol = Evolution(f, 1000)\n",
    "df_eval = example_evol.process(n_iters=1000, n_population_after=10, select_type=\"top_n\",\\\n",
    "                    pairing_type=\"error_based\", crossover_type=\"error_based\", threshold_stds=None)"
   ]
  },
  {
   "cell_type": "markdown",
   "id": "c6d380d7",
   "metadata": {},
   "source": [
    "## Example Graph "
   ]
  },
  {
   "cell_type": "code",
   "execution_count": 3,
   "id": "2d2571d5",
   "metadata": {},
   "outputs": [],
   "source": [
    "example_evol = Evolution(f, 100)\n",
    "example_evol.process(n_iters=5, n_population_after=10, select_type=\"top_n\",\\\n",
    "                    pairing_type=\"random\", crossover_type=\"linear\", threshold_stds=None)\n",
    "net_plot = NetworkPlot(example_evol)\n",
    "net_plot.transform()\n",
    "net_plot.plot()"
   ]
  },
  {
   "cell_type": "markdown",
   "id": "2609f6d7",
   "metadata": {},
   "source": [
    "## Example calculations with larger populations for each type"
   ]
  },
  {
   "cell_type": "code",
   "execution_count": 4,
   "id": "6e079542",
   "metadata": {},
   "outputs": [],
   "source": [
    "pav = ProcessAllVariants(select_type = [\"threshold\", \"top_n\"],\n",
    "                 pairing_type = [\"random\", \"error_based\"],\n",
    "                 crossover_type = [\"linear\", \"error_based\", \"random_uniform\", \"random_gaussian\"],\n",
    "                 f=f, N_population = 1000, n_iters = 100, n_population_after = 100, threshold_stds = 0)\n",
    "pav.processAll()\n",
    "pav.plotRuns()"
   ]
  }
 ],
 "metadata": {
  "kernelspec": {
   "display_name": "Python 3",
   "language": "python",
   "name": "python3"
  },
  "language_info": {
   "codemirror_mode": {
    "name": "ipython",
    "version": 3
   },
   "file_extension": ".py",
   "mimetype": "text/x-python",
   "name": "python",
   "nbconvert_exporter": "python",
   "pygments_lexer": "ipython3",
   "version": "3.8.5"
  }
 },
 "nbformat": 4,
 "nbformat_minor": 5
}
