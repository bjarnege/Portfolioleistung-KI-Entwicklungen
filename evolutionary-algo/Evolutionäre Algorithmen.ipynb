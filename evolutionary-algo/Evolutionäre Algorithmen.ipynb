{
 "cells": [
  {
   "cell_type": "code",
   "execution_count": 1,
   "id": "ac604ffc",
   "metadata": {},
   "outputs": [],
   "source": [
    "from Networkgraph import NetworkPlot\n",
    "from Population import PopulationInstance\n",
    "from Variants import ProcessAllVariants\n",
    "from Evolution import Evolution\n",
    "import plotly.graph_objects as go\n",
    "import pandas as pd\n",
    "import numpy as np"
   ]
  },
  {
   "cell_type": "markdown",
   "id": "b9c55e9d",
   "metadata": {},
   "source": [
    "## Function f"
   ]
  },
  {
   "cell_type": "code",
   "execution_count": 2,
   "id": "779400f0",
   "metadata": {
    "scrolled": true
   },
   "outputs": [],
   "source": [
    "# Hier wird die Funktion f betrachtet, wobei die Nebenbedingung vernachlässigt wird (nur für diesen Plot)\n",
    "def f(x, y):\n",
    "    \n",
    "    return (1-x)**2 + 100*((y - x**2)**2)\n",
    "    \n",
    "    \n",
    "\n",
    "x, y = np.linspace(-2, 2, 500), np.linspace(-2, 2, 500)\n",
    "x = np.append(x, np.linspace(.9, 1.1, 100))\n",
    "y = x = np.append(y, np.linspace(.9, 1.1, 100))\n",
    "\n",
    "X, Y = np.meshgrid(x, y)\n",
    "Z = f(X, Y)\n",
    "\n",
    "trace = go.Scatter3d(x=X.flatten(), y=Y.flatten(), z=Z.flatten(), mode=\"markers\", marker=dict(\n",
    "        size=3, color=np.log(Z.flatten()),                # set color to an array/list of desired values\n",
    "        colorscale='twilight',   # choose a colorscale\n",
    "        opacity=0.8\n",
    "    ))\n",
    "layout = go.Layout()\n",
    "layout.scene.zaxis.type = \"log\"\n",
    "fig = go.Figure(data = [trace], layout = layout)\n",
    "fig.show()"
   ]
  },
  {
   "cell_type": "markdown",
   "id": "dbfd1a4c",
   "metadata": {},
   "source": [
    "## Example Values  "
   ]
  },
  {
   "cell_type": "code",
   "execution_count": 3,
   "id": "edff634c",
   "metadata": {},
   "outputs": [],
   "source": [
    "from Population import f"
   ]
  },
  {
   "cell_type": "code",
   "execution_count": 4,
   "id": "f8ecdad7",
   "metadata": {},
   "outputs": [],
   "source": [
    "example_evol = Evolution(f, 1000)\n",
    "df_eval = example_evol.process(n_iters=1000, n_population_after=10, select_type=\"top_n\",\\\n",
    "                    pairing_type=\"error_based\", crossover_type=\"error_based\", threshold_stds=None)"
   ]
  },
  {
   "cell_type": "markdown",
   "id": "c6d380d7",
   "metadata": {},
   "source": [
    "## Example Graph "
   ]
  },
  {
   "cell_type": "code",
   "execution_count": 5,
   "id": "2d2571d5",
   "metadata": {},
   "outputs": [],
   "source": [
    "example_evol = Evolution(f, 100)\n",
    "example_evol.process(n_iters=5, n_population_after=10, select_type=\"top_n\",\\\n",
    "                    pairing_type=\"random\", crossover_type=\"linear\", threshold_stds=None)\n",
    "net_plot = NetworkPlot(example_evol)\n",
    "net_plot.transform()\n",
    "net_plot.plot()"
   ]
  },
  {
   "cell_type": "markdown",
   "id": "2609f6d7",
   "metadata": {},
   "source": [
    "## Example calculations with larger populations for each type"
   ]
  },
  {
   "cell_type": "code",
   "execution_count": 6,
   "id": "6e079542",
   "metadata": {},
   "outputs": [],
   "source": [
    "pav = ProcessAllVariants(select_type = [\"threshold\", \"top_n\"],\n",
    "                 pairing_type = [\"random\", \"error_based\"],\n",
    "                 crossover_type = [\"linear\", \"error_based\", \"random_uniform\", \"random_gaussian\"],\n",
    "                 f=f, N_population = 1000, n_iters = 100, n_population_after = 100, threshold_stds = 0)\n",
    "pav.processAll()\n",
    "pav.plotRuns()"
   ]
  }
 ],
 "metadata": {
  "kernelspec": {
   "display_name": "Python 3",
   "language": "python",
   "name": "python3"
  },
  "language_info": {
   "codemirror_mode": {
    "name": "ipython",
    "version": 3
   },
   "file_extension": ".py",
   "mimetype": "text/x-python",
   "name": "python",
   "nbconvert_exporter": "python",
   "pygments_lexer": "ipython3",
   "version": "3.8.8"
  }
 },
 "nbformat": 4,
 "nbformat_minor": 5
}
